{
 "cells": [
  {
   "cell_type": "code",
   "execution_count": 2,
   "metadata": {},
   "outputs": [],
   "source": [
    "import streamlit as st\n",
    "import json\n",
    "from langchain.prompts import PromptTemplate\n",
    "from langchain_groq import ChatGroq\n",
    "from langchain.schema import HumanMessage, AIMessage, SystemMessage\n",
    "from langchain.schema.runnable import RunnablePassthrough, RunnableLambda"
   ]
  },
  {
   "cell_type": "code",
   "execution_count": 3,
   "metadata": {},
   "outputs": [],
   "source": [
    "def load_data():\n",
    "    try:\n",
    "        with open('sales_chatbot_data.json', 'r') as f:\n",
    "            return json.load(f)\n",
    "    except FileNotFoundError:\n",
    "        st.error(\"No data file found. Please run the input app first to create the data.\")\n",
    "        return None\n",
    "    "
   ]
  },
  {
   "cell_type": "code",
   "execution_count": 4,
   "metadata": {},
   "outputs": [
    {
     "data": {
      "text/plain": [
       "{'product_name': 'EcoClean All-Purpose Cleaner',\n",
       " 'product_description': 'EcoClean is a powerful, eco-friendly all-purpose cleaning solution. Made from 100% natural ingredients, it effectively cleans surfaces while being safe for your family and the environment. EcoClean works on multiple surfaces including countertops, floors, bathrooms, and kitchen appliances.',\n",
       " 'pricing_details': '500ml bottle: $9.99\\n1L bottle: $16.99\\n2L refill pack: $29.99\\nSubscription (1L bottle every month): $14.99/month\\nBulk order (5 x 1L bottles): $74.99 (Save $10!)',\n",
       " 'faqs': [{'question': 'Is EcoClean safe to use around children and pets?',\n",
       "   'answer': 'Yes, EcoClean is made from 100% natural ingredients and is non-toxic, making it safe to use around children and pets. However, as with any cleaning product, we recommend keeping it out of reach of children and avoiding direct contact with eyes or ingestion.'}],\n",
       " 'sales_script': 'Keep it Short massage , understand the problem and then promote this product ',\n",
       " 'tone': 'Formal',\n",
       " 'language': 'English ',\n",
       " 'purchase_link': 'https://www.ecoclean-example.com/shop',\n",
       " 'product_demo_link': 'https://www.ecoclean-example.com/demo-video',\n",
       " 'appointment_booking_link': 'https://www.ecoclean-example.com/book-consultation'}"
      ]
     },
     "execution_count": 4,
     "metadata": {},
     "output_type": "execute_result"
    }
   ],
   "source": [
    "data=load_data()\n",
    "data"
   ]
  },
  {
   "cell_type": "code",
   "execution_count": 5,
   "metadata": {},
   "outputs": [],
   "source": [
    "llm = ChatGroq(model=\"llama-3.2-11b-vision-preview\", api_key=\"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\")"
   ]
  },
  {
   "cell_type": "code",
   "execution_count": 6,
   "metadata": {},
   "outputs": [],
   "source": [
    "prompt_template = PromptTemplate(\n",
    "    input_variables=[\"product_info\", \"chat_history\", \"human_input\", \"links_info\", \"tone\", \"language\", \"objections\", \"faqs\", \"sales_script\"],\n",
    "    template=\"\"\"\n",
    "    You are an AI sales representative for the following product:\n",
    "    {product_info}\n",
    "    \n",
    "    Your tone should be {tone} and you should communicate in {language}.\n",
    "    \n",
    "    Here are some common objections and how to handle them:\n",
    "    {objections}\n",
    "    \n",
    "    Here are some frequently asked questions and their answers:\n",
    "    {faqs}\n",
    "    \n",
    "    Use the following sales script as a guideline:\n",
    "    {sales_script}\n",
    "\n",
    "    Important: Only provide the following links if the user specifically asks for them or indicates they're ready to buy:\n",
    "    {links_info}\n",
    "    \n",
    "        \n",
    "    Human: {human_input}\n",
    "    AI: \"\"\"\n",
    ")"
   ]
  },
  {
   "cell_type": "code",
   "execution_count": 7,
   "metadata": {},
   "outputs": [
    {
     "name": "stderr",
     "output_type": "stream",
     "text": [
      "C:\\Users\\Akshay Kumar BM\\AppData\\Local\\Temp\\ipykernel_7924\\4249127722.py:2: LangChainDeprecationWarning: The class `LLMChain` was deprecated in LangChain 0.1.17 and will be removed in 1.0. Use RunnableSequence, e.g., `prompt | llm` instead.\n",
      "  llm_chain=LLMChain(llm=llm,prompt=prompt_template)\n"
     ]
    }
   ],
   "source": [
    "from langchain.chains.llm import LLMChain\n",
    "llm_chain=LLMChain(llm=llm,prompt=prompt_template)\n"
   ]
  },
  {
   "cell_type": "code",
   "execution_count": 10,
   "metadata": {},
   "outputs": [],
   "source": [
    "product_info = f\"\"\"\n",
    "        Product Name: {data.get('product_name', 'N/A')}\n",
    "        Description: {data.get('product_description', 'N/A')}\n",
    "        Pricing: {data.get('pricing_details', 'N/A')}\n",
    "        \"\"\"\n",
    "objections = \"\\n\".join([f\"Objection: {obj.get('objection', 'N/A')}\\nResponse: {obj.get('response', 'N/A')}\" for obj in data.get('objections', [])])\n",
    "\n",
    "faqs = \"\\n\".join([f\"Q: {faq.get('question', 'N/A')}\\nA: {faq.get('answer', 'N/A')}\" for faq in data.get('faqs', [])])\n",
    "\n",
    "       \n",
    "links_info = f\"\"\"\n",
    "        Purchase Link: {data.get('purchase_link', 'Not available')}\n",
    "        Product Demo Link: {data.get('product_demo_link', 'Not available')}\n",
    "        Appointment Booking Link: {data.get('appointment_booking_link', 'Not available')}\"\"\"\n",
    "tone=data['tone']\n",
    "language=data['language']\n",
    "sales_script=data['sales_script']\n"
   ]
  },
  {
   "cell_type": "code",
   "execution_count": 24,
   "metadata": {},
   "outputs": [],
   "source": [
    "human=\"i need very cheap\""
   ]
  },
  {
   "cell_type": "code",
   "execution_count": 25,
   "metadata": {},
   "outputs": [
    {
     "data": {
      "text/plain": [
       "{'language': 'English ',\n",
       " 'sales_script': 'Keep it Short massage , understand the problem and then promote this product ',\n",
       " 'tone': 'Formal',\n",
       " 'faqs': 'Q: Is EcoClean safe to use around children and pets?\\nA: Yes, EcoClean is made from 100% natural ingredients and is non-toxic, making it safe to use around children and pets. However, as with any cleaning product, we recommend keeping it out of reach of children and avoiding direct contact with eyes or ingestion.',\n",
       " 'human_input': 'i need very cheap',\n",
       " 'links_info': '\\n        Purchase Link: https://www.ecoclean-example.com/shop\\n        Product Demo Link: https://www.ecoclean-example.com/demo-video\\n        Appointment Booking Link: https://www.ecoclean-example.com/book-consultation',\n",
       " 'chat_history': '',\n",
       " 'product_info': '\\n        Product Name: EcoClean All-Purpose Cleaner\\n        Description: EcoClean is a powerful, eco-friendly all-purpose cleaning solution. Made from 100% natural ingredients, it effectively cleans surfaces while being safe for your family and the environment. EcoClean works on multiple surfaces including countertops, floors, bathrooms, and kitchen appliances.\\n        Pricing: 500ml bottle: $9.99\\n1L bottle: $16.99\\n2L refill pack: $29.99\\nSubscription (1L bottle every month): $14.99/month\\nBulk order (5 x 1L bottles): $74.99 (Save $10!)\\n        ',\n",
       " 'objections': '',\n",
       " 'text': \"I understand that budget is a concern for you. However, I'd like to highlight that while EcoClean may not be the cheapest option upfront, it's actually a cost-effective solution in the long run. Not only does it effectively clean surfaces without harming the environment, but it also comes in a refill pack that can save you money in the long term.\\n\\nOur 2L refill pack, for example, costs only $29.99 and can be used to refill a 1L bottle multiple times. This can work out to be significantly cheaper than buying multiple small bottles of cheaper cleaning products that may not be as effective.\\n\\nWould you like to know more about how EcoClean's refill pack can benefit your cleaning needs?\"}"
      ]
     },
     "execution_count": 25,
     "metadata": {},
     "output_type": "execute_result"
    }
   ],
   "source": [
    "llm_chain.invoke(input={'language':language, 'sales_script':sales_script, 'tone':tone, 'faqs':faqs, 'human_input':human, 'links_info':links_info, 'chat_history':\"\", 'product_info':product_info, 'objections':objections})"
   ]
  },
  {
   "cell_type": "markdown",
   "metadata": {},
   "source": []
  }
 ],
 "metadata": {
  "kernelspec": {
   "display_name": "Python 3",
   "language": "python",
   "name": "python3"
  },
  "language_info": {
   "codemirror_mode": {
    "name": "ipython",
    "version": 3
   },
   "file_extension": ".py",
   "mimetype": "text/x-python",
   "name": "python",
   "nbconvert_exporter": "python",
   "pygments_lexer": "ipython3",
   "version": "3.10.10"
  }
 },
 "nbformat": 4,
 "nbformat_minor": 2
}
